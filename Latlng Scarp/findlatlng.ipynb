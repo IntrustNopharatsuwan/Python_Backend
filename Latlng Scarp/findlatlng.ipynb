{
 "cells": [
  {
   "cell_type": "markdown",
   "metadata": {},
   "source": [
    "# Search Latitude And Longtitude For Some Website Program"
   ]
  },
  {
   "cell_type": "markdown",
   "metadata": {},
   "source": [
    "### Import Library"
   ]
  },
  {
   "cell_type": "code",
   "execution_count": 1,
   "metadata": {},
   "outputs": [],
   "source": [
    "from selenium.webdriver.chrome.options import Options\n",
    "from selenium.webdriver.chrome.service import Service\n",
    "from selenium.webdriver.common.by import By\n",
    "from chromedriver_py import binary_path\n",
    "from selenium import webdriver\n",
    "from bs4 import BeautifulSoup\n",
    "import time"
   ]
  },
  {
   "cell_type": "markdown",
   "metadata": {},
   "source": [
    "### Input Location"
   ]
  },
  {
   "cell_type": "code",
   "execution_count": 2,
   "metadata": {},
   "outputs": [],
   "source": [
    "key_word = 'Siam Paragon'"
   ]
  },
  {
   "cell_type": "markdown",
   "metadata": {},
   "source": [
    "### Standard Open Website Function"
   ]
  },
  {
   "cell_type": "code",
   "execution_count": 3,
   "metadata": {},
   "outputs": [],
   "source": [
    "def open_web(web_name):\n",
    "    options = Options()\n",
    "    options.headless = True\n",
    "    options.add_argument(\"user-data-dir=C:\\\\Users\\\\TPCS\\\\AppData\\\\Local\\\\Google\\\\Chrome\\\\User Data\\\\Default\")\n",
    "    service_object = Service(binary_path)\n",
    "    driver = webdriver.Chrome(service=service_object,options=options)\n",
    "    driver.maximize_window()\n",
    "    driver.get(web_name)\n",
    "    time.sleep(3)\n",
    "    return driver"
   ]
  },
  {
   "cell_type": "markdown",
   "metadata": {},
   "source": [
    "### Find Latitude, Longtitude and Property Function"
   ]
  },
  {
   "cell_type": "code",
   "execution_count": 4,
   "metadata": {},
   "outputs": [],
   "source": [
    "def find_lat_lng_gmap(key_word):\n",
    "    web_name = \"Search Engine Website\"\n",
    "    driver = open_web(web_name)\n",
    "    time.sleep(2)\n",
    "    result = {\n",
    "        'Error':'',\n",
    "        'Key Word':key_word,\n",
    "        'latitude':0,\n",
    "        'longtitude':0,\n",
    "        'address':'',\n",
    "        \"postcode\":'',\n",
    "        \"phone\":'',\n",
    "        \"website\":'',\n",
    "        'Google Map URL':''\n",
    "    }\n",
    "    try:\n",
    "        search_areas = driver.find_element(By.XPATH, 'Search_Areas_XPath')\n",
    "        search_areas.clear()\n",
    "        search_areas.send_keys(key_word)\n",
    "        search_areas.submit()\n",
    "        time.sleep(2)\n",
    "\n",
    "        gmap_url = driver.current_url\n",
    "        lat,lng=gmap_url.split('@')[1].split(',')[:2]\n",
    "        \n",
    "        data = driver.page_source\n",
    "        soup = BeautifulSoup(data, 'html.parser')      \n",
    "\n",
    "        address = soup.find('button', {'data-item-id': 'address'}).get('aria-label', '').replace('ที่อยู่: ', '').strip()\n",
    "\n",
    "        address_list = address.split(' ')\n",
    "        postcode = [addr if (len(str(addr)) == 5) and (addr).isdigit() else '' for addr in address_list].pop()\n",
    "        \n",
    "        phone_button = soup.find('button', {'data-item-id': lambda x: x and x.startswith('phone:tel')})\n",
    "        phone = phone_button.get('aria-label', '').replace('โทรศัพท์:', '').replace(' ','').strip() if phone_button else None\n",
    "\n",
    "        website_tag = soup.find('a', {'data-item-id': 'authority'})\n",
    "        website = website_tag.get('href', '') if website_tag else None\n",
    "        time.sleep(1)\n",
    "        \n",
    "        glink_button = driver.find_element(By.XPATH, \"Google_Link_XPath\")\n",
    "        glink_button.click()\n",
    "        time.sleep(2)\n",
    "        \n",
    "        gmap_url = driver.find_element(By.XPATH, \"Google_Map_URL_XPath\").get_attribute(\"value\")       \n",
    "        time.sleep(1)\n",
    "\n",
    "        result['latitude'] = lat\n",
    "        result['longtitude'] = lng\n",
    "        result['address'] = address\n",
    "        result['postcode'] = postcode\n",
    "        result['phone'] = phone\n",
    "        result['website'] = website\n",
    "        result['Google Map URL'] = gmap_url\n",
    "    except Exception as e:\n",
    "        result['Error'] = e\n",
    "    finally:\n",
    "        driver.quit()\n",
    "        return result"
   ]
  },
  {
   "cell_type": "code",
   "execution_count": 5,
   "metadata": {},
   "outputs": [
    {
     "name": "stderr",
     "output_type": "stream",
     "text": [
      "C:\\Users\\intrust\\AppData\\Local\\Temp\\ipykernel_10972\\2989429425.py:3: DeprecationWarning: headless property is deprecated, instead use add_argument('--headless') or add_argument('--headless=new')\n",
      "  options.headless = True\n"
     ]
    }
   ],
   "source": [
    "result = find_lat_lng_gmap(key_word)"
   ]
  },
  {
   "cell_type": "code",
   "execution_count": 6,
   "metadata": {},
   "outputs": [
    {
     "data": {
      "text/plain": [
       "{'Error': '',\n",
       " 'Key Word': 'Siam Paragon',\n",
       " 'latitude': '13.7457749',\n",
       " 'longtitude': '100.5344017',\n",
       " 'address': '991/1 ถ. พระรามที่ 1 แขวงปทุมวัน เขตปทุมวัน กรุงเทพมหานคร 10330',\n",
       " 'postcode': '10330',\n",
       " 'phone': '026901000',\n",
       " 'website': 'https://www.siamparagon.co.th/',\n",
       " 'Google Map URL': 'https://maps.app.goo.gl/w42Kc7D3VQgYEbsi6'}"
      ]
     },
     "execution_count": 6,
     "metadata": {},
     "output_type": "execute_result"
    }
   ],
   "source": [
    "result"
   ]
  }
 ],
 "metadata": {
  "kernelspec": {
   "display_name": "Python 3",
   "language": "python",
   "name": "python3"
  },
  "language_info": {
   "codemirror_mode": {
    "name": "ipython",
    "version": 3
   },
   "file_extension": ".py",
   "mimetype": "text/x-python",
   "name": "python",
   "nbconvert_exporter": "python",
   "pygments_lexer": "ipython3",
   "version": "3.11.4"
  }
 },
 "nbformat": 4,
 "nbformat_minor": 2
}
