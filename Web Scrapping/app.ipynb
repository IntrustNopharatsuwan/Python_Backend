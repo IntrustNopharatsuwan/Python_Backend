{
 "cells": [
  {
   "cell_type": "markdown",
   "metadata": {},
   "source": [
    "# Scraping"
   ]
  },
  {
   "cell_type": "code",
   "execution_count": null,
   "metadata": {},
   "outputs": [],
   "source": [
    "from selenium.webdriver.chrome.options import Options\n",
    "from selenium.webdriver.chrome.service import Service\n",
    "from selenium.webdriver.common.by import By\n",
    "from chromedriver_py import binary_path\n",
    "from datetime import datetime as dt\n",
    "from sqlalchemy import create_engine\n",
    "from selenium import webdriver\n",
    "from bs4 import BeautifulSoup\n",
    "from pangres import upsert\n",
    "import pandas as pd"
   ]
  },
  {
   "cell_type": "code",
   "execution_count": 176,
   "metadata": {},
   "outputs": [],
   "source": [
    "conn = create_engine(\"mysql+pymysql://{user}:{password}@{hostname}/{database}\")"
   ]
  },
  {
   "cell_type": "code",
   "execution_count": 177,
   "metadata": {},
   "outputs": [],
   "source": [
    "year_now = dt.today().strftime('%Y')\n",
    "web_name = \"https://tmd.go.th/\"\n",
    "options = Options()\n",
    "service_object = Service(binary_path)\n",
    "driver = webdriver.Chrome(service=service_object,options=options)\n",
    "driver.maximize_window()\n",
    "driver.get(web_name)"
   ]
  },
  {
   "cell_type": "code",
   "execution_count": 178,
   "metadata": {},
   "outputs": [],
   "source": [
    "supportData = driver.find_element(By.XPATH, '/html/body/div[1]/nav/div/div/ul/li[3]/a')\n",
    "supportData.click()"
   ]
  },
  {
   "cell_type": "code",
   "execution_count": 179,
   "metadata": {},
   "outputs": [],
   "source": [
    "sumTime = driver.find_element(By.XPATH, '/html/body/div[1]/nav/div/div/ul/li[3]/div/div/div/div/div[4]/ul/li')\n",
    "sumTime.click()"
   ]
  },
  {
   "cell_type": "code",
   "execution_count": 180,
   "metadata": {},
   "outputs": [],
   "source": [
    "html = driver.page_source\n",
    "soup = BeautifulSoup(html, 'html.parser')\n",
    "driver.quit()"
   ]
  },
  {
   "cell_type": "markdown",
   "metadata": {},
   "source": [
    "---"
   ]
  },
  {
   "cell_type": "markdown",
   "metadata": {},
   "source": [
    "# Find Columns Name"
   ]
  },
  {
   "cell_type": "code",
   "execution_count": 187,
   "metadata": {},
   "outputs": [],
   "source": [
    "columnsSoupList = soup.find_all('tr', {'class': 'table-header text-center align-middle'})\n",
    "columnsList = [column.get_text(strip=True) for column in columnsSoupList[0].find_all('td') if column.get_text(strip=True) != 'วันที่']"
   ]
  },
  {
   "cell_type": "code",
   "execution_count": 188,
   "metadata": {},
   "outputs": [
    {
     "data": {
      "text/plain": [
       "['ม.ค.',\n",
       " 'ก.พ.',\n",
       " 'มี.ค.',\n",
       " 'เม.ย.',\n",
       " 'พ.ค.',\n",
       " 'มิ.ย.',\n",
       " 'ก.ค.',\n",
       " 'ส.ค.',\n",
       " 'ก.ย.',\n",
       " 'ต.ค.',\n",
       " 'พ.ย.',\n",
       " 'ธ.ค.']"
      ]
     },
     "execution_count": 188,
     "metadata": {},
     "output_type": "execute_result"
    }
   ],
   "source": [
    "columnsList"
   ]
  },
  {
   "cell_type": "markdown",
   "metadata": {},
   "source": [
    "---"
   ]
  },
  {
   "cell_type": "markdown",
   "metadata": {},
   "source": [
    "# Find Time"
   ]
  },
  {
   "cell_type": "code",
   "execution_count": 137,
   "metadata": {},
   "outputs": [],
   "source": [
    "dataSoupList = soup.find_all('tbody', {'class': 'text-center align-middle'})"
   ]
  },
  {
   "cell_type": "code",
   "execution_count": 138,
   "metadata": {},
   "outputs": [],
   "source": [
    "thaimonth_dict = {\n",
    "    'ม.ค.':'1', \n",
    "    'ก.พ.':'2', \n",
    "    'มี.ค.':'3', \n",
    "    'เม.ย.':'4', \n",
    "    'พ.ค.':'5', \n",
    "    'มิ.ย.':'6', \n",
    "    'ก.ค.':'7', \n",
    "    'ส.ค.':'8', \n",
    "    'ก.ย.':'9', \n",
    "    'ต.ค.':'10', \n",
    "    'พ.ย.':'11', \n",
    "    'ธ.ค.':'12'\n",
    "}"
   ]
  },
  {
   "cell_type": "code",
   "execution_count": null,
   "metadata": {},
   "outputs": [],
   "source": [
    "sunrise_df = pd.DataFrame()\n",
    "sunset_df = pd.DataFrame()\n",
    "\n",
    "day_i = \"1\" \n",
    "supData = dataSoupList[0].find_all('tr')\n",
    "for supData_i in supData:\n",
    "    supClass = supData_i.find(class_=True).get(\"class\")[0]\n",
    "    if supClass == 'sunrise':\n",
    "        day_i = supData_i.find_all('td',{'rowspan':'2'})[0].get_text()\n",
    "\n",
    "    find_data = supData_i.find_all('td')\n",
    "    timeList = [text.get_text() for text in find_data]\n",
    "    data_dict_i = {\n",
    "        'month_th':columnsList[1:],\n",
    "        'time':timeList\n",
    "    }\n",
    "    data_i = pd.DataFrame(data_dict_i)\n",
    "    data_i['day'] = day_i\n",
    "    data_i['month'] = data_i['month_th'].map(thaimonth_dict)\n",
    "    data_i['date']=year_now+'-'+data_i['month'].apply(lambda t: '0'+str(int(t)) if int(t)<10 else str(int(t)))+'-'+data_i['day'].apply(lambda t: '0'+str(int(t)) if int(t)<10 else str(int(t)))\n",
    "    data_i = data_i[['date','time']]\n",
    "    if supClass == 'sunrise':\n",
    "        sunrise_df = pd.concat([sunrise_df,data_i],ignore_index=True)\n",
    "    else:\n",
    "        sunset_df = pd.concat([sunset_df,data_i],ignore_index=True)"
   ]
  },
  {
   "cell_type": "code",
   "execution_count": null,
   "metadata": {},
   "outputs": [
    {
     "data": {
      "text/html": [
       "<div>\n",
       "<style scoped>\n",
       "    .dataframe tbody tr th:only-of-type {\n",
       "        vertical-align: middle;\n",
       "    }\n",
       "\n",
       "    .dataframe tbody tr th {\n",
       "        vertical-align: top;\n",
       "    }\n",
       "\n",
       "    .dataframe thead th {\n",
       "        text-align: right;\n",
       "    }\n",
       "</style>\n",
       "<table border=\"1\" class=\"dataframe\">\n",
       "  <thead>\n",
       "    <tr style=\"text-align: right;\">\n",
       "      <th></th>\n",
       "      <th>date</th>\n",
       "      <th>sunrise time</th>\n",
       "    </tr>\n",
       "  </thead>\n",
       "  <tbody>\n",
       "    <tr>\n",
       "      <th>0</th>\n",
       "      <td>2024-01-01</td>\n",
       "      <td>06:24</td>\n",
       "    </tr>\n",
       "    <tr>\n",
       "      <th>1</th>\n",
       "      <td>2024-02-01</td>\n",
       "      <td>06:27</td>\n",
       "    </tr>\n",
       "    <tr>\n",
       "      <th>2</th>\n",
       "      <td>2024-03-01</td>\n",
       "      <td>06:15</td>\n",
       "    </tr>\n",
       "    <tr>\n",
       "      <th>3</th>\n",
       "      <td>2024-04-01</td>\n",
       "      <td>05:53</td>\n",
       "    </tr>\n",
       "    <tr>\n",
       "      <th>4</th>\n",
       "      <td>2024-05-01</td>\n",
       "      <td>05:34</td>\n",
       "    </tr>\n",
       "    <tr>\n",
       "      <th>...</th>\n",
       "      <td>...</td>\n",
       "      <td>...</td>\n",
       "    </tr>\n",
       "    <tr>\n",
       "      <th>367</th>\n",
       "      <td>2024-08-31</td>\n",
       "      <td>05:45</td>\n",
       "    </tr>\n",
       "    <tr>\n",
       "      <th>368</th>\n",
       "      <td>2024-09-31</td>\n",
       "      <td></td>\n",
       "    </tr>\n",
       "    <tr>\n",
       "      <th>369</th>\n",
       "      <td>2024-10-31</td>\n",
       "      <td>05:53</td>\n",
       "    </tr>\n",
       "    <tr>\n",
       "      <th>370</th>\n",
       "      <td>2024-11-31</td>\n",
       "      <td></td>\n",
       "    </tr>\n",
       "    <tr>\n",
       "      <th>371</th>\n",
       "      <td>2024-12-31</td>\n",
       "      <td>06:24</td>\n",
       "    </tr>\n",
       "  </tbody>\n",
       "</table>\n",
       "<p>372 rows × 2 columns</p>\n",
       "</div>"
      ],
      "text/plain": [
       "           date sunrise time\n",
       "0    2024-01-01        06:24\n",
       "1    2024-02-01        06:27\n",
       "2    2024-03-01        06:15\n",
       "3    2024-04-01        05:53\n",
       "4    2024-05-01        05:34\n",
       "..          ...          ...\n",
       "367  2024-08-31        05:45\n",
       "368  2024-09-31             \n",
       "369  2024-10-31        05:53\n",
       "370  2024-11-31             \n",
       "371  2024-12-31        06:24\n",
       "\n",
       "[372 rows x 2 columns]"
      ]
     },
     "execution_count": 172,
     "metadata": {},
     "output_type": "execute_result"
    }
   ],
   "source": [
    "sunrise_df.rename(columns={'time': 'sunrise time'},inplace=True)\n",
    "sunrise_df"
   ]
  },
  {
   "cell_type": "code",
   "execution_count": null,
   "metadata": {},
   "outputs": [
    {
     "data": {
      "text/html": [
       "<div>\n",
       "<style scoped>\n",
       "    .dataframe tbody tr th:only-of-type {\n",
       "        vertical-align: middle;\n",
       "    }\n",
       "\n",
       "    .dataframe tbody tr th {\n",
       "        vertical-align: top;\n",
       "    }\n",
       "\n",
       "    .dataframe thead th {\n",
       "        text-align: right;\n",
       "    }\n",
       "</style>\n",
       "<table border=\"1\" class=\"dataframe\">\n",
       "  <thead>\n",
       "    <tr style=\"text-align: right;\">\n",
       "      <th></th>\n",
       "      <th>date</th>\n",
       "      <th>sunset time</th>\n",
       "    </tr>\n",
       "  </thead>\n",
       "  <tbody>\n",
       "    <tr>\n",
       "      <th>0</th>\n",
       "      <td>2024-01-01</td>\n",
       "      <td>17:37</td>\n",
       "    </tr>\n",
       "    <tr>\n",
       "      <th>1</th>\n",
       "      <td>2024-02-01</td>\n",
       "      <td>17:55</td>\n",
       "    </tr>\n",
       "    <tr>\n",
       "      <th>2</th>\n",
       "      <td>2024-03-01</td>\n",
       "      <td>18:05</td>\n",
       "    </tr>\n",
       "    <tr>\n",
       "      <th>3</th>\n",
       "      <td>2024-04-01</td>\n",
       "      <td>18:10</td>\n",
       "    </tr>\n",
       "    <tr>\n",
       "      <th>4</th>\n",
       "      <td>2024-05-01</td>\n",
       "      <td>18:15</td>\n",
       "    </tr>\n",
       "    <tr>\n",
       "      <th>...</th>\n",
       "      <td>...</td>\n",
       "      <td>...</td>\n",
       "    </tr>\n",
       "    <tr>\n",
       "      <th>367</th>\n",
       "      <td>2024-08-31</td>\n",
       "      <td>18:11</td>\n",
       "    </tr>\n",
       "    <tr>\n",
       "      <th>368</th>\n",
       "      <td>2024-09-31</td>\n",
       "      <td></td>\n",
       "    </tr>\n",
       "    <tr>\n",
       "      <th>369</th>\n",
       "      <td>2024-10-31</td>\n",
       "      <td>17:29</td>\n",
       "    </tr>\n",
       "    <tr>\n",
       "      <th>370</th>\n",
       "      <td>2024-11-31</td>\n",
       "      <td></td>\n",
       "    </tr>\n",
       "    <tr>\n",
       "      <th>371</th>\n",
       "      <td>2024-12-31</td>\n",
       "      <td>17:37</td>\n",
       "    </tr>\n",
       "  </tbody>\n",
       "</table>\n",
       "<p>372 rows × 2 columns</p>\n",
       "</div>"
      ],
      "text/plain": [
       "           date sunset time\n",
       "0    2024-01-01       17:37\n",
       "1    2024-02-01       17:55\n",
       "2    2024-03-01       18:05\n",
       "3    2024-04-01       18:10\n",
       "4    2024-05-01       18:15\n",
       "..          ...         ...\n",
       "367  2024-08-31       18:11\n",
       "368  2024-09-31            \n",
       "369  2024-10-31       17:29\n",
       "370  2024-11-31            \n",
       "371  2024-12-31       17:37\n",
       "\n",
       "[372 rows x 2 columns]"
      ]
     },
     "execution_count": 173,
     "metadata": {},
     "output_type": "execute_result"
    }
   ],
   "source": [
    "sunset_df.rename(columns={'time': 'sunset time'},inplace=True)\n",
    "sunset_df"
   ]
  },
  {
   "cell_type": "code",
   "execution_count": 174,
   "metadata": {},
   "outputs": [
    {
     "data": {
      "text/html": [
       "<div>\n",
       "<style scoped>\n",
       "    .dataframe tbody tr th:only-of-type {\n",
       "        vertical-align: middle;\n",
       "    }\n",
       "\n",
       "    .dataframe tbody tr th {\n",
       "        vertical-align: top;\n",
       "    }\n",
       "\n",
       "    .dataframe thead th {\n",
       "        text-align: right;\n",
       "    }\n",
       "</style>\n",
       "<table border=\"1\" class=\"dataframe\">\n",
       "  <thead>\n",
       "    <tr style=\"text-align: right;\">\n",
       "      <th></th>\n",
       "      <th>date</th>\n",
       "      <th>sunrise time</th>\n",
       "      <th>sunset time</th>\n",
       "    </tr>\n",
       "  </thead>\n",
       "  <tbody>\n",
       "    <tr>\n",
       "      <th>0</th>\n",
       "      <td>2024-01-01</td>\n",
       "      <td>06:24</td>\n",
       "      <td>17:37</td>\n",
       "    </tr>\n",
       "    <tr>\n",
       "      <th>1</th>\n",
       "      <td>2024-02-01</td>\n",
       "      <td>06:27</td>\n",
       "      <td>17:55</td>\n",
       "    </tr>\n",
       "    <tr>\n",
       "      <th>2</th>\n",
       "      <td>2024-03-01</td>\n",
       "      <td>06:15</td>\n",
       "      <td>18:05</td>\n",
       "    </tr>\n",
       "    <tr>\n",
       "      <th>3</th>\n",
       "      <td>2024-04-01</td>\n",
       "      <td>05:53</td>\n",
       "      <td>18:10</td>\n",
       "    </tr>\n",
       "    <tr>\n",
       "      <th>4</th>\n",
       "      <td>2024-05-01</td>\n",
       "      <td>05:34</td>\n",
       "      <td>18:15</td>\n",
       "    </tr>\n",
       "    <tr>\n",
       "      <th>...</th>\n",
       "      <td>...</td>\n",
       "      <td>...</td>\n",
       "      <td>...</td>\n",
       "    </tr>\n",
       "    <tr>\n",
       "      <th>364</th>\n",
       "      <td>2024-05-31</td>\n",
       "      <td>05:26</td>\n",
       "      <td>18:24</td>\n",
       "    </tr>\n",
       "    <tr>\n",
       "      <th>366</th>\n",
       "      <td>2024-07-31</td>\n",
       "      <td>05:39</td>\n",
       "      <td>18:28</td>\n",
       "    </tr>\n",
       "    <tr>\n",
       "      <th>367</th>\n",
       "      <td>2024-08-31</td>\n",
       "      <td>05:45</td>\n",
       "      <td>18:11</td>\n",
       "    </tr>\n",
       "    <tr>\n",
       "      <th>369</th>\n",
       "      <td>2024-10-31</td>\n",
       "      <td>05:53</td>\n",
       "      <td>17:29</td>\n",
       "    </tr>\n",
       "    <tr>\n",
       "      <th>371</th>\n",
       "      <td>2024-12-31</td>\n",
       "      <td>06:24</td>\n",
       "      <td>17:37</td>\n",
       "    </tr>\n",
       "  </tbody>\n",
       "</table>\n",
       "<p>366 rows × 3 columns</p>\n",
       "</div>"
      ],
      "text/plain": [
       "           date sunrise time sunset time\n",
       "0    2024-01-01        06:24       17:37\n",
       "1    2024-02-01        06:27       17:55\n",
       "2    2024-03-01        06:15       18:05\n",
       "3    2024-04-01        05:53       18:10\n",
       "4    2024-05-01        05:34       18:15\n",
       "..          ...          ...         ...\n",
       "364  2024-05-31        05:26       18:24\n",
       "366  2024-07-31        05:39       18:28\n",
       "367  2024-08-31        05:45       18:11\n",
       "369  2024-10-31        05:53       17:29\n",
       "371  2024-12-31        06:24       17:37\n",
       "\n",
       "[366 rows x 3 columns]"
      ]
     },
     "execution_count": 174,
     "metadata": {},
     "output_type": "execute_result"
    }
   ],
   "source": [
    "data = sunrise_df.merge(sunset_df,how='left',on='date')\n",
    "data = data[~ ((data['sunrise time']=='') | (data['sunset time'] == ''))]\n",
    "data"
   ]
  },
  {
   "cell_type": "code",
   "execution_count": null,
   "metadata": {},
   "outputs": [],
   "source": [
    "data.set_index(['date'],inplace=True)\n",
    "upsert(\n",
    "    con=conn,\n",
    "    df=data,\n",
    "    table_name='Table Name',\n",
    "    if_row_exists='update',\n",
    "    create_schema=False,\n",
    "    create_table=False\n",
    ")"
   ]
  }
 ],
 "metadata": {
  "kernelspec": {
   "display_name": "tmd_env",
   "language": "python",
   "name": "python3"
  },
  "language_info": {
   "codemirror_mode": {
    "name": "ipython",
    "version": 3
   },
   "file_extension": ".py",
   "mimetype": "text/x-python",
   "name": "python",
   "nbconvert_exporter": "python",
   "pygments_lexer": "ipython3",
   "version": "3.12.7"
  }
 },
 "nbformat": 4,
 "nbformat_minor": 2
}
